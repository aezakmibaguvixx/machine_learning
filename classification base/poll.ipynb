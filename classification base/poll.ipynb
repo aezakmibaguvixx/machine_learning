{
 "cells": [
  {
   "cell_type": "code",
   "execution_count": 68,
   "id": "4114745c",
   "metadata": {},
   "outputs": [],
   "source": [
    "import pandas as pd\n",
    "import numpy as np\n",
    "from sklearn.model_selection import train_test_split#for test LR\n",
    "from sklearn.linear_model import LogisticRegression\n",
    "import seaborn as sns\n",
    "import matplotlib.pyplot as plt\n",
    "from sklearn. discriminant_analysis import LinearDiscriminantAnalysis"
   ]
  },
  {
   "cell_type": "code",
   "execution_count": 49,
   "id": "440a0fc1",
   "metadata": {},
   "outputs": [],
   "source": [
    "poll = pd.read_csv('poll1.csv', delimiter=';')"
   ]
  },
  {
   "cell_type": "code",
   "execution_count": 50,
   "id": "5efe1587",
   "metadata": {},
   "outputs": [
    {
     "data": {
      "text/html": [
       "<div>\n",
       "<style scoped>\n",
       "    .dataframe tbody tr th:only-of-type {\n",
       "        vertical-align: middle;\n",
       "    }\n",
       "\n",
       "    .dataframe tbody tr th {\n",
       "        vertical-align: top;\n",
       "    }\n",
       "\n",
       "    .dataframe thead th {\n",
       "        text-align: right;\n",
       "    }\n",
       "</style>\n",
       "<table border=\"1\" class=\"dataframe\">\n",
       "  <thead>\n",
       "    <tr style=\"text-align: right;\">\n",
       "      <th></th>\n",
       "      <th>Unnamed: 0</th>\n",
       "      <th>x1</th>\n",
       "      <th>x2</th>\n",
       "      <th>x3</th>\n",
       "      <th>x4</th>\n",
       "      <th>x5</th>\n",
       "      <th>x6</th>\n",
       "      <th>x7</th>\n",
       "      <th>x8</th>\n",
       "      <th>x9</th>\n",
       "      <th>x10</th>\n",
       "      <th>x11</th>\n",
       "      <th>x12</th>\n",
       "      <th>x13</th>\n",
       "      <th>x14</th>\n",
       "      <th>x15</th>\n",
       "      <th>x16</th>\n",
       "      <th>Class</th>\n",
       "    </tr>\n",
       "  </thead>\n",
       "  <tbody>\n",
       "    <tr>\n",
       "      <th>0</th>\n",
       "      <td>1</td>\n",
       "      <td>0</td>\n",
       "      <td>1</td>\n",
       "      <td>0</td>\n",
       "      <td>0</td>\n",
       "      <td>1</td>\n",
       "      <td>1</td>\n",
       "      <td>0</td>\n",
       "      <td>0</td>\n",
       "      <td>1</td>\n",
       "      <td>1</td>\n",
       "      <td>1</td>\n",
       "      <td>0</td>\n",
       "      <td>1</td>\n",
       "      <td>1</td>\n",
       "      <td>0</td>\n",
       "      <td>1</td>\n",
       "      <td>1</td>\n",
       "    </tr>\n",
       "    <tr>\n",
       "      <th>1</th>\n",
       "      <td>2</td>\n",
       "      <td>1</td>\n",
       "      <td>0</td>\n",
       "      <td>1</td>\n",
       "      <td>1</td>\n",
       "      <td>0</td>\n",
       "      <td>0</td>\n",
       "      <td>1</td>\n",
       "      <td>1</td>\n",
       "      <td>0</td>\n",
       "      <td>1</td>\n",
       "      <td>1</td>\n",
       "      <td>1</td>\n",
       "      <td>0</td>\n",
       "      <td>0</td>\n",
       "      <td>1</td>\n",
       "      <td>0</td>\n",
       "      <td>1</td>\n",
       "    </tr>\n",
       "    <tr>\n",
       "      <th>2</th>\n",
       "      <td>3</td>\n",
       "      <td>0</td>\n",
       "      <td>0</td>\n",
       "      <td>0</td>\n",
       "      <td>1</td>\n",
       "      <td>1</td>\n",
       "      <td>1</td>\n",
       "      <td>0</td>\n",
       "      <td>1</td>\n",
       "      <td>1</td>\n",
       "      <td>0</td>\n",
       "      <td>1</td>\n",
       "      <td>1</td>\n",
       "      <td>1</td>\n",
       "      <td>0</td>\n",
       "      <td>0</td>\n",
       "      <td>1</td>\n",
       "      <td>1</td>\n",
       "    </tr>\n",
       "    <tr>\n",
       "      <th>3</th>\n",
       "      <td>4</td>\n",
       "      <td>0</td>\n",
       "      <td>1</td>\n",
       "      <td>1</td>\n",
       "      <td>0</td>\n",
       "      <td>0</td>\n",
       "      <td>1</td>\n",
       "      <td>1</td>\n",
       "      <td>0</td>\n",
       "      <td>0</td>\n",
       "      <td>1</td>\n",
       "      <td>1</td>\n",
       "      <td>0</td>\n",
       "      <td>0</td>\n",
       "      <td>1</td>\n",
       "      <td>1</td>\n",
       "      <td>1</td>\n",
       "      <td>1</td>\n",
       "    </tr>\n",
       "    <tr>\n",
       "      <th>4</th>\n",
       "      <td>5</td>\n",
       "      <td>1</td>\n",
       "      <td>1</td>\n",
       "      <td>0</td>\n",
       "      <td>1</td>\n",
       "      <td>0</td>\n",
       "      <td>1</td>\n",
       "      <td>0</td>\n",
       "      <td>1</td>\n",
       "      <td>0</td>\n",
       "      <td>1</td>\n",
       "      <td>0</td>\n",
       "      <td>1</td>\n",
       "      <td>0</td>\n",
       "      <td>1</td>\n",
       "      <td>1</td>\n",
       "      <td>0</td>\n",
       "      <td>1</td>\n",
       "    </tr>\n",
       "  </tbody>\n",
       "</table>\n",
       "</div>"
      ],
      "text/plain": [
       "   Unnamed: 0  x1  x2  x3  x4  x5  x6  x7  x8  x9  x10  x11  x12  x13  x14  \\\n",
       "0           1   0   1   0   0   1   1   0   0   1    1    1    0    1    1   \n",
       "1           2   1   0   1   1   0   0   1   1   0    1    1    1    0    0   \n",
       "2           3   0   0   0   1   1   1   0   1   1    0    1    1    1    0   \n",
       "3           4   0   1   1   0   0   1   1   0   0    1    1    0    0    1   \n",
       "4           5   1   1   0   1   0   1   0   1   0    1    0    1    0    1   \n",
       "\n",
       "   x15  x16  Class  \n",
       "0    0    1      1  \n",
       "1    1    0      1  \n",
       "2    0    1      1  \n",
       "3    1    1      1  \n",
       "4    1    0      1  "
      ]
     },
     "execution_count": 50,
     "metadata": {},
     "output_type": "execute_result"
    }
   ],
   "source": [
    "poll.head()"
   ]
  },
  {
   "cell_type": "code",
   "execution_count": 51,
   "id": "f4c7cfc7",
   "metadata": {},
   "outputs": [
    {
     "data": {
      "text/plain": [
       "Index(['Unnamed: 0', 'x1', 'x2', 'x3', 'x4', 'x5', 'x6', 'x7', 'x8', 'x9',\n",
       "       'x10', 'x11', 'x12', 'x13', 'x14', 'x15', 'x16', 'Class'],\n",
       "      dtype='object')"
      ]
     },
     "execution_count": 51,
     "metadata": {},
     "output_type": "execute_result"
    }
   ],
   "source": [
    "poll.columns"
   ]
  },
  {
   "cell_type": "code",
   "execution_count": 52,
   "id": "f3b4d885",
   "metadata": {},
   "outputs": [],
   "source": [
    "poll = poll.set_index(np.arange(1, len(poll)+1))\n"
   ]
  },
  {
   "cell_type": "code",
   "execution_count": 66,
   "id": "a43e163b",
   "metadata": {},
   "outputs": [],
   "source": [
    "poll = poll.drop(columns = ['Unnamed: 0'],axis = 1)"
   ]
  },
  {
   "cell_type": "code",
   "execution_count": null,
   "id": "09691b12",
   "metadata": {},
   "outputs": [],
   "source": []
  },
  {
   "cell_type": "code",
   "execution_count": 55,
   "id": "ed9a5fe3",
   "metadata": {},
   "outputs": [],
   "source": [
    "Class = poll['Class']\n",
    "features = poll.drop('Class', axis=1)\n",
    "X_train, X_test, Y_train, Y_test = train_test_split(features, Class, test_size=0.2, random_state=10)\n",
    "# разбиваем данные на те на которых мы будем учить нашу модель и на те на которых будем тестироватть\n",
    "# 0.2 это 20% данных нпо которым будем тестить , а на 80% будем учить "
   ]
  },
  {
   "cell_type": "code",
   "execution_count": null,
   "id": "0dc03c7e",
   "metadata": {},
   "outputs": [],
   "source": [
    "логит метод"
   ]
  },
  {
   "cell_type": "code",
   "execution_count": 62,
   "id": "6cb924a6",
   "metadata": {},
   "outputs": [
    {
     "name": "stdout",
     "output_type": "stream",
     "text": [
      "training data r-squared 1.0\n",
      "test data r-squared 0.75\n"
     ]
    }
   ],
   "source": [
    "regr = LogisticRegression()\n",
    "regr.fit(X_train, Y_train) # тренеруем на наших тренировочных данных \n",
    "print('training data r-squared', regr.score(X_train, Y_train)) #выписываем коэф детерминайции который показы\n",
    "#вает насколь наша модель точная\n",
    "print('test data r-squared', regr.score(X_test, Y_test))"
   ]
  },
  {
   "cell_type": "code",
   "execution_count": null,
   "id": "91090878",
   "metadata": {},
   "outputs": [],
   "source": [
    "# метод линейного дискриминантного анализа "
   ]
  },
  {
   "cell_type": "code",
   "execution_count": 88,
   "id": "f5ca0a25",
   "metadata": {},
   "outputs": [
    {
     "name": "stdout",
     "output_type": "stream",
     "text": [
      "training data r-squared 1.0\n",
      "test data r-squared 0.25\n"
     ]
    }
   ],
   "source": [
    "regra = LinearDiscriminantAnalysis()\n",
    "regra.fit(X_train, Y_train) # тренеруем на наших тренировочных данных \n",
    "print('training data r-squared', regra.score(X_train, Y_train)) #выписываем коэф детерминайции который показы\n",
    "#вает насколь наша модель точная\n",
    "print('test data r-squared', regra.score(X_test, Y_test))"
   ]
  },
  {
   "cell_type": "code",
   "execution_count": null,
   "id": "fe0bb4f3",
   "metadata": {},
   "outputs": [],
   "source": [
    "# метод бинапрного дискриминантного анализа \n",
    "Логистическая регрессия: одна из самых простых и популярных\n",
    "    моделей классификации, которая использует линейную функцию\n",
    "    для предсказания вероятности принадлежности объекта к классу."
   ]
  },
  {
   "cell_type": "code",
   "execution_count": null,
   "id": "5d117521",
   "metadata": {},
   "outputs": [],
   "source": [
    "Логистическая регрессия используется в следующих случаях:\n",
    "\n",
    "1)Классификация бинарных данных: когда необходимо классифицировать объекты как принадлежащие к\n",
    "    одному из двух классов (например, спам или не спам).\n",
    "\n",
    "2)Классификация многоклассовых данных: когда необходимо классифицировать объекты \n",
    "    как принадлежащие к одному из нескольких классов (например, различные типы фруктов).\n",
    "\n",
    "3)Предсказание вероятностей: логистическая регрессия возвращает в\n",
    "\n",
    "4)вероятностное значение принадлежности объекта к каждому из классов, что может быть полезно в случаях, когда необходимо оценить степень уверенности в классификации объекта.\n",
    "\n",
    "5)Простота интерпретации: логистическая регрессия имеет линейную функцию, которая может быть легко интерпретирована и оцениваема, что может быть полезно для бизнес-задач.\n",
    "\n",
    "Работа с нелинейными данными: логистическая регрессия может работать с нелинейными данными с помощью преобразования признаков (например, с помощью полиномиальны"
   ]
  },
  {
   "cell_type": "code",
   "execution_count": null,
   "id": "ce1a6c95",
   "metadata": {},
   "outputs": [],
   "source": []
  }
 ],
 "metadata": {
  "kernelspec": {
   "display_name": "Python 3 (ipykernel)",
   "language": "python",
   "name": "python3"
  },
  "language_info": {
   "codemirror_mode": {
    "name": "ipython",
    "version": 3
   },
   "file_extension": ".py",
   "mimetype": "text/x-python",
   "name": "python",
   "nbconvert_exporter": "python",
   "pygments_lexer": "ipython3",
   "version": "3.11.1"
  }
 },
 "nbformat": 4,
 "nbformat_minor": 5
}
